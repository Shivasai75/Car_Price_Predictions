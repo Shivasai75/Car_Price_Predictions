{
 "cells": [
  {
   "cell_type": "code",
   "execution_count": 1,
   "metadata": {},
   "outputs": [],
   "source": [
    "%matplotlib inline     \n",
    "\n",
    "import pandas as pd\n",
    "import numpy as np\n",
    "\n",
    "import warnings\n",
    "\n",
    "warnings.filterwarnings('ignore')\n",
    "\n",
    "car_price_df = pd.read_csv(\"CarPrice_Assignment.csv\") #loading data file\n",
    "\n",
    "y = car_price_df['price'] #define target Variable\n",
    "\n",
    "car_price_df.drop(columns= 'price', inplace = True) #dropping target Variable"
   ]
  },
  {
   "cell_type": "code",
   "execution_count": 2,
   "metadata": {},
   "outputs": [
    {
     "data": {
      "text/html": [
       "<div>\n",
       "<style scoped>\n",
       "    .dataframe tbody tr th:only-of-type {\n",
       "        vertical-align: middle;\n",
       "    }\n",
       "\n",
       "    .dataframe tbody tr th {\n",
       "        vertical-align: top;\n",
       "    }\n",
       "\n",
       "    .dataframe thead th {\n",
       "        text-align: right;\n",
       "    }\n",
       "</style>\n",
       "<table border=\"1\" class=\"dataframe\">\n",
       "  <thead>\n",
       "    <tr style=\"text-align: right;\">\n",
       "      <th></th>\n",
       "      <th>column_name</th>\n",
       "      <th>na_count</th>\n",
       "      <th>na_percentage</th>\n",
       "    </tr>\n",
       "  </thead>\n",
       "  <tbody>\n",
       "    <tr>\n",
       "      <th>car_ID</th>\n",
       "      <td>car_ID</td>\n",
       "      <td>0</td>\n",
       "      <td>0.0</td>\n",
       "    </tr>\n",
       "    <tr>\n",
       "      <th>curbweight</th>\n",
       "      <td>curbweight</td>\n",
       "      <td>0</td>\n",
       "      <td>0.0</td>\n",
       "    </tr>\n",
       "    <tr>\n",
       "      <th>citympg</th>\n",
       "      <td>citympg</td>\n",
       "      <td>0</td>\n",
       "      <td>0.0</td>\n",
       "    </tr>\n",
       "    <tr>\n",
       "      <th>peakrpm</th>\n",
       "      <td>peakrpm</td>\n",
       "      <td>0</td>\n",
       "      <td>0.0</td>\n",
       "    </tr>\n",
       "    <tr>\n",
       "      <th>horsepower</th>\n",
       "      <td>horsepower</td>\n",
       "      <td>0</td>\n",
       "      <td>0.0</td>\n",
       "    </tr>\n",
       "    <tr>\n",
       "      <th>compressionratio</th>\n",
       "      <td>compressionratio</td>\n",
       "      <td>0</td>\n",
       "      <td>0.0</td>\n",
       "    </tr>\n",
       "    <tr>\n",
       "      <th>stroke</th>\n",
       "      <td>stroke</td>\n",
       "      <td>0</td>\n",
       "      <td>0.0</td>\n",
       "    </tr>\n",
       "    <tr>\n",
       "      <th>boreratio</th>\n",
       "      <td>boreratio</td>\n",
       "      <td>0</td>\n",
       "      <td>0.0</td>\n",
       "    </tr>\n",
       "    <tr>\n",
       "      <th>fuelsystem</th>\n",
       "      <td>fuelsystem</td>\n",
       "      <td>0</td>\n",
       "      <td>0.0</td>\n",
       "    </tr>\n",
       "    <tr>\n",
       "      <th>enginesize</th>\n",
       "      <td>enginesize</td>\n",
       "      <td>0</td>\n",
       "      <td>0.0</td>\n",
       "    </tr>\n",
       "    <tr>\n",
       "      <th>cylindernumber</th>\n",
       "      <td>cylindernumber</td>\n",
       "      <td>0</td>\n",
       "      <td>0.0</td>\n",
       "    </tr>\n",
       "    <tr>\n",
       "      <th>enginetype</th>\n",
       "      <td>enginetype</td>\n",
       "      <td>0</td>\n",
       "      <td>0.0</td>\n",
       "    </tr>\n",
       "    <tr>\n",
       "      <th>carheight</th>\n",
       "      <td>carheight</td>\n",
       "      <td>0</td>\n",
       "      <td>0.0</td>\n",
       "    </tr>\n",
       "    <tr>\n",
       "      <th>symboling</th>\n",
       "      <td>symboling</td>\n",
       "      <td>0</td>\n",
       "      <td>0.0</td>\n",
       "    </tr>\n",
       "    <tr>\n",
       "      <th>carwidth</th>\n",
       "      <td>carwidth</td>\n",
       "      <td>0</td>\n",
       "      <td>0.0</td>\n",
       "    </tr>\n",
       "    <tr>\n",
       "      <th>carlength</th>\n",
       "      <td>carlength</td>\n",
       "      <td>0</td>\n",
       "      <td>0.0</td>\n",
       "    </tr>\n",
       "    <tr>\n",
       "      <th>wheelbase</th>\n",
       "      <td>wheelbase</td>\n",
       "      <td>0</td>\n",
       "      <td>0.0</td>\n",
       "    </tr>\n",
       "    <tr>\n",
       "      <th>enginelocation</th>\n",
       "      <td>enginelocation</td>\n",
       "      <td>0</td>\n",
       "      <td>0.0</td>\n",
       "    </tr>\n",
       "    <tr>\n",
       "      <th>drivewheel</th>\n",
       "      <td>drivewheel</td>\n",
       "      <td>0</td>\n",
       "      <td>0.0</td>\n",
       "    </tr>\n",
       "    <tr>\n",
       "      <th>carbody</th>\n",
       "      <td>carbody</td>\n",
       "      <td>0</td>\n",
       "      <td>0.0</td>\n",
       "    </tr>\n",
       "    <tr>\n",
       "      <th>doornumber</th>\n",
       "      <td>doornumber</td>\n",
       "      <td>0</td>\n",
       "      <td>0.0</td>\n",
       "    </tr>\n",
       "    <tr>\n",
       "      <th>aspiration</th>\n",
       "      <td>aspiration</td>\n",
       "      <td>0</td>\n",
       "      <td>0.0</td>\n",
       "    </tr>\n",
       "    <tr>\n",
       "      <th>fueltype</th>\n",
       "      <td>fueltype</td>\n",
       "      <td>0</td>\n",
       "      <td>0.0</td>\n",
       "    </tr>\n",
       "    <tr>\n",
       "      <th>CarName</th>\n",
       "      <td>CarName</td>\n",
       "      <td>0</td>\n",
       "      <td>0.0</td>\n",
       "    </tr>\n",
       "    <tr>\n",
       "      <th>highwaympg</th>\n",
       "      <td>highwaympg</td>\n",
       "      <td>0</td>\n",
       "      <td>0.0</td>\n",
       "    </tr>\n",
       "  </tbody>\n",
       "</table>\n",
       "</div>"
      ],
      "text/plain": [
       "                       column_name  na_count  na_percentage\n",
       "car_ID                      car_ID         0            0.0\n",
       "curbweight              curbweight         0            0.0\n",
       "citympg                    citympg         0            0.0\n",
       "peakrpm                    peakrpm         0            0.0\n",
       "horsepower              horsepower         0            0.0\n",
       "compressionratio  compressionratio         0            0.0\n",
       "stroke                      stroke         0            0.0\n",
       "boreratio                boreratio         0            0.0\n",
       "fuelsystem              fuelsystem         0            0.0\n",
       "enginesize              enginesize         0            0.0\n",
       "cylindernumber      cylindernumber         0            0.0\n",
       "enginetype              enginetype         0            0.0\n",
       "carheight                carheight         0            0.0\n",
       "symboling                symboling         0            0.0\n",
       "carwidth                  carwidth         0            0.0\n",
       "carlength                carlength         0            0.0\n",
       "wheelbase                wheelbase         0            0.0\n",
       "enginelocation      enginelocation         0            0.0\n",
       "drivewheel              drivewheel         0            0.0\n",
       "carbody                    carbody         0            0.0\n",
       "doornumber              doornumber         0            0.0\n",
       "aspiration              aspiration         0            0.0\n",
       "fueltype                  fueltype         0            0.0\n",
       "CarName                    CarName         0            0.0\n",
       "highwaympg              highwaympg         0            0.0"
      ]
     },
     "execution_count": 2,
     "metadata": {},
     "output_type": "execute_result"
    }
   ],
   "source": [
    "na_df = pd.DataFrame({'column_name': car_price_df.columns,\n",
    "                     'na_count': car_price_df.isnull().sum(),\n",
    "                     'na_percentage': car_price_df.isnull().sum()/len(car_price_df)*100})\n",
    "\n",
    "na_df.sort_values(by='na_percentage', ascending=False) #null Value %"
   ]
  },
  {
   "cell_type": "code",
   "execution_count": 3,
   "metadata": {},
   "outputs": [
    {
     "data": {
      "text/plain": [
       "['car_ID']"
      ]
     },
     "execution_count": 3,
     "metadata": {},
     "output_type": "execute_result"
    }
   ],
   "source": [
    "cols_to_drop = []\n",
    "\n",
    "for col in car_price_df.columns:\n",
    "    if len(car_price_df[col].unique())==1 or len(car_price_df[col].unique())==car_price_df.shape[0]:\n",
    "        cols_to_drop.append(col)\n",
    "        \n",
    "cols_to_drop #finding unique value columns"
   ]
  },
  {
   "cell_type": "code",
   "execution_count": 4,
   "metadata": {},
   "outputs": [],
   "source": [
    "car_price_df.drop(columns=cols_to_drop, inplace= True) #dropping unique value columns"
   ]
  },
  {
   "cell_type": "code",
   "execution_count": 5,
   "metadata": {},
   "outputs": [
    {
     "data": {
      "text/plain": [
       "symboling             int64\n",
       "CarName              object\n",
       "fueltype             object\n",
       "aspiration           object\n",
       "doornumber           object\n",
       "carbody              object\n",
       "drivewheel           object\n",
       "enginelocation       object\n",
       "wheelbase           float64\n",
       "carlength           float64\n",
       "carwidth            float64\n",
       "carheight           float64\n",
       "curbweight            int64\n",
       "enginetype           object\n",
       "cylindernumber       object\n",
       "enginesize            int64\n",
       "fuelsystem           object\n",
       "boreratio           float64\n",
       "stroke              float64\n",
       "compressionratio    float64\n",
       "horsepower            int64\n",
       "peakrpm               int64\n",
       "citympg               int64\n",
       "highwaympg            int64\n",
       "dtype: object"
      ]
     },
     "execution_count": 5,
     "metadata": {},
     "output_type": "execute_result"
    }
   ],
   "source": [
    "car_price_df.dtypes #data type"
   ]
  },
  {
   "cell_type": "code",
   "execution_count": 6,
   "metadata": {},
   "outputs": [],
   "source": [
    "from sklearn.model_selection import train_test_split\n",
    "\n",
    "X_train, X_test, y_train, y_test = train_test_split(car_price_df,y, test_size=0.2, random_state=42) \n",
    "\n",
    "\n",
    "# split the data into Train and Test\n"
   ]
  },
  {
   "cell_type": "code",
   "execution_count": 7,
   "metadata": {},
   "outputs": [],
   "source": [
    "num_col = [col for col in car_price_df.columns if car_price_df[col].dtype=='int64' or car_price_df[col].dtype=='float64']\n",
    "cat_col= [col for col in car_price_df.columns if car_price_df[col].dtype=='object'] \n",
    "\n",
    "#separate the Continuos and Categorical columns"
   ]
  },
  {
   "cell_type": "code",
   "execution_count": 8,
   "metadata": {},
   "outputs": [],
   "source": [
    "from sklearn.preprocessing import MinMaxScaler,StandardScaler,LabelEncoder, OneHotEncoder\n",
    "\n",
    "minmaxscaler = MinMaxScaler()\n",
    "\n",
    "\n",
    "for col in num_col:\n",
    "    X_train[col]=minmaxscaler.fit_transform(np.array(X_train[col]).reshape(-1,1))\n",
    "    X_test[col]=minmaxscaler.transform(np.array(X_test[col]).reshape(-1,1))\n",
    "\n",
    "\n",
    "oe_train_df=pd.get_dummies(X_train[cat_col])\n",
    "oe_test_df =pd.get_dummies(X_test[cat_col])\n",
    "\n",
    "#Scalling the variables"
   ]
  },
  {
   "cell_type": "code",
   "execution_count": 9,
   "metadata": {},
   "outputs": [],
   "source": [
    "X_train_oe, X_test_oe = oe_train_df.align(oe_test_df,axis=1,join='inner',fill_value=0)\n"
   ]
  },
  {
   "cell_type": "code",
   "execution_count": 10,
   "metadata": {},
   "outputs": [],
   "source": [
    "X_train_final = pd.concat([X_train_oe, X_train[num_col]], axis=1)\n",
    "X_test_final = pd.concat([X_test_oe, X_test[num_col]], axis=1)"
   ]
  },
  {
   "cell_type": "markdown",
   "metadata": {},
   "source": [
    "# LinearRegression"
   ]
  },
  {
   "cell_type": "code",
   "execution_count": 11,
   "metadata": {},
   "outputs": [
    {
     "data": {
      "text/plain": [
       "array([ 30304.,  22720.,  10912.,  19104.,  26080.,   5696.,  11360.,\n",
       "         6816.,   5824.,   9376.,  15616.,   6304.,  14272.,   8800.,\n",
       "        46464.,   8768., -17728.,  13856.,  10464.,   7616.,  10752.,\n",
       "        19712.,   1664.,   3104.,   7680.,  31072.,  14880.,  11392.,\n",
       "         4320.,  13856.,  27264.,   7520.,   8608.,  23296.,   8224.,\n",
       "        25120.,  12992.,  14496.,   8256.,  12160.,   3808.])"
      ]
     },
     "execution_count": 11,
     "metadata": {},
     "output_type": "execute_result"
    }
   ],
   "source": [
    "from sklearn.linear_model import LinearRegression\n",
    "\n",
    "linear = LinearRegression()\n",
    "linear.fit(X_train_final,y_train)\n",
    "\n",
    "\n",
    "predictions = linear.predict(X_test_final)\n",
    "\n",
    "predictions"
   ]
  },
  {
   "cell_type": "code",
   "execution_count": 12,
   "metadata": {},
   "outputs": [
    {
     "data": {
      "text/plain": [
       "0.6821795111234807"
      ]
     },
     "execution_count": 12,
     "metadata": {},
     "output_type": "execute_result"
    }
   ],
   "source": [
    "from sklearn.metrics import r2_score, mean_squared_error\n",
    "\n",
    "r2_score(y_test, predictions)"
   ]
  },
  {
   "cell_type": "code",
   "execution_count": 13,
   "metadata": {},
   "outputs": [
    {
     "data": {
      "text/plain": [
       "25090027.30985095"
      ]
     },
     "execution_count": 13,
     "metadata": {},
     "output_type": "execute_result"
    }
   ],
   "source": [
    "mean_squared_error(y_test, predictions)"
   ]
  },
  {
   "cell_type": "markdown",
   "metadata": {},
   "source": [
    "# Variance Inflation Factor"
   ]
  },
  {
   "cell_type": "code",
   "execution_count": 14,
   "metadata": {},
   "outputs": [
    {
     "data": {
      "text/html": [
       "<div>\n",
       "<style scoped>\n",
       "    .dataframe tbody tr th:only-of-type {\n",
       "        vertical-align: middle;\n",
       "    }\n",
       "\n",
       "    .dataframe tbody tr th {\n",
       "        vertical-align: top;\n",
       "    }\n",
       "\n",
       "    .dataframe thead th {\n",
       "        text-align: right;\n",
       "    }\n",
       "</style>\n",
       "<table border=\"1\" class=\"dataframe\">\n",
       "  <thead>\n",
       "    <tr style=\"text-align: right;\">\n",
       "      <th></th>\n",
       "      <th>VIF Factor</th>\n",
       "      <th>Features</th>\n",
       "    </tr>\n",
       "  </thead>\n",
       "  <tbody>\n",
       "    <tr>\n",
       "      <th>0</th>\n",
       "      <td>9.169963</td>\n",
       "      <td>symboling</td>\n",
       "    </tr>\n",
       "    <tr>\n",
       "      <th>1</th>\n",
       "      <td>43.246513</td>\n",
       "      <td>wheelbase</td>\n",
       "    </tr>\n",
       "    <tr>\n",
       "      <th>2</th>\n",
       "      <td>58.429157</td>\n",
       "      <td>carlength</td>\n",
       "    </tr>\n",
       "    <tr>\n",
       "      <th>3</th>\n",
       "      <td>24.082000</td>\n",
       "      <td>carwidth</td>\n",
       "    </tr>\n",
       "    <tr>\n",
       "      <th>4</th>\n",
       "      <td>14.250093</td>\n",
       "      <td>carheight</td>\n",
       "    </tr>\n",
       "    <tr>\n",
       "      <th>5</th>\n",
       "      <td>46.125409</td>\n",
       "      <td>curbweight</td>\n",
       "    </tr>\n",
       "    <tr>\n",
       "      <th>6</th>\n",
       "      <td>19.749627</td>\n",
       "      <td>enginesize</td>\n",
       "    </tr>\n",
       "    <tr>\n",
       "      <th>7</th>\n",
       "      <td>16.053635</td>\n",
       "      <td>boreratio</td>\n",
       "    </tr>\n",
       "    <tr>\n",
       "      <th>8</th>\n",
       "      <td>16.084586</td>\n",
       "      <td>stroke</td>\n",
       "    </tr>\n",
       "    <tr>\n",
       "      <th>9</th>\n",
       "      <td>3.219615</td>\n",
       "      <td>compressionratio</td>\n",
       "    </tr>\n",
       "    <tr>\n",
       "      <th>10</th>\n",
       "      <td>20.784166</td>\n",
       "      <td>horsepower</td>\n",
       "    </tr>\n",
       "    <tr>\n",
       "      <th>11</th>\n",
       "      <td>9.418083</td>\n",
       "      <td>peakrpm</td>\n",
       "    </tr>\n",
       "    <tr>\n",
       "      <th>12</th>\n",
       "      <td>113.146700</td>\n",
       "      <td>citympg</td>\n",
       "    </tr>\n",
       "    <tr>\n",
       "      <th>13</th>\n",
       "      <td>123.228491</td>\n",
       "      <td>highwaympg</td>\n",
       "    </tr>\n",
       "  </tbody>\n",
       "</table>\n",
       "</div>"
      ],
      "text/plain": [
       "    VIF Factor          Features\n",
       "0     9.169963         symboling\n",
       "1    43.246513         wheelbase\n",
       "2    58.429157         carlength\n",
       "3    24.082000          carwidth\n",
       "4    14.250093         carheight\n",
       "5    46.125409        curbweight\n",
       "6    19.749627        enginesize\n",
       "7    16.053635         boreratio\n",
       "8    16.084586            stroke\n",
       "9     3.219615  compressionratio\n",
       "10   20.784166        horsepower\n",
       "11    9.418083           peakrpm\n",
       "12  113.146700           citympg\n",
       "13  123.228491        highwaympg"
      ]
     },
     "execution_count": 14,
     "metadata": {},
     "output_type": "execute_result"
    }
   ],
   "source": [
    "from statsmodels.stats.outliers_influence import variance_inflation_factor\n",
    "\n",
    "vif = pd.DataFrame()\n",
    "\n",
    "vif['VIF Factor'] = [variance_inflation_factor(X_train[num_col].values, i) for i in range(X_train[num_col].shape[1])]\n",
    "\n",
    "vif['Features'] = X_train[num_col].columns\n",
    "\n",
    "vif"
   ]
  },
  {
   "cell_type": "markdown",
   "metadata": {},
   "source": [
    "# Lasso"
   ]
  },
  {
   "cell_type": "code",
   "execution_count": 15,
   "metadata": {},
   "outputs": [
    {
     "data": {
      "text/html": [
       "<div>\n",
       "<style scoped>\n",
       "    .dataframe tbody tr th:only-of-type {\n",
       "        vertical-align: middle;\n",
       "    }\n",
       "\n",
       "    .dataframe tbody tr th {\n",
       "        vertical-align: top;\n",
       "    }\n",
       "\n",
       "    .dataframe thead th {\n",
       "        text-align: right;\n",
       "    }\n",
       "</style>\n",
       "<table border=\"1\" class=\"dataframe\">\n",
       "  <thead>\n",
       "    <tr style=\"text-align: right;\">\n",
       "      <th></th>\n",
       "      <th>Feature</th>\n",
       "      <th>Alpha =1.300000</th>\n",
       "      <th>Alpha =0.800000</th>\n",
       "      <th>Alpha =-2.200000</th>\n",
       "    </tr>\n",
       "  </thead>\n",
       "  <tbody>\n",
       "    <tr>\n",
       "      <th>0</th>\n",
       "      <td>CarName_honda civic</td>\n",
       "      <td>1.377897e+03</td>\n",
       "      <td>1.515619e+03</td>\n",
       "      <td>2455.462476</td>\n",
       "    </tr>\n",
       "    <tr>\n",
       "      <th>1</th>\n",
       "      <td>CarName_mazda 626</td>\n",
       "      <td>-2.528325e+02</td>\n",
       "      <td>-2.925880e+02</td>\n",
       "      <td>-616.230562</td>\n",
       "    </tr>\n",
       "    <tr>\n",
       "      <th>2</th>\n",
       "      <td>CarName_mazda glc</td>\n",
       "      <td>-1.143117e+03</td>\n",
       "      <td>-1.389155e+03</td>\n",
       "      <td>-2853.051968</td>\n",
       "    </tr>\n",
       "    <tr>\n",
       "      <th>3</th>\n",
       "      <td>CarName_mitsubishi g4</td>\n",
       "      <td>2.622061e+02</td>\n",
       "      <td>3.629914e+02</td>\n",
       "      <td>766.281263</td>\n",
       "    </tr>\n",
       "    <tr>\n",
       "      <th>4</th>\n",
       "      <td>CarName_mitsubishi mirage g4</td>\n",
       "      <td>8.888866e+02</td>\n",
       "      <td>1.002412e+03</td>\n",
       "      <td>1395.945857</td>\n",
       "    </tr>\n",
       "    <tr>\n",
       "      <th>5</th>\n",
       "      <td>CarName_mitsubishi outlander</td>\n",
       "      <td>-5.434992e+02</td>\n",
       "      <td>-5.979303e+02</td>\n",
       "      <td>-1032.676889</td>\n",
       "    </tr>\n",
       "    <tr>\n",
       "      <th>6</th>\n",
       "      <td>CarName_nissan clipper</td>\n",
       "      <td>0.000000e+00</td>\n",
       "      <td>9.957052e+01</td>\n",
       "      <td>898.615198</td>\n",
       "    </tr>\n",
       "    <tr>\n",
       "      <th>7</th>\n",
       "      <td>CarName_plymouth fury iii</td>\n",
       "      <td>0.000000e+00</td>\n",
       "      <td>8.593091e+01</td>\n",
       "      <td>1098.709071</td>\n",
       "    </tr>\n",
       "    <tr>\n",
       "      <th>8</th>\n",
       "      <td>CarName_saab 99e</td>\n",
       "      <td>4.901122e+03</td>\n",
       "      <td>5.062557e+03</td>\n",
       "      <td>5849.239506</td>\n",
       "    </tr>\n",
       "    <tr>\n",
       "      <th>9</th>\n",
       "      <td>CarName_toyota corolla</td>\n",
       "      <td>-2.848289e+02</td>\n",
       "      <td>-2.277842e+02</td>\n",
       "      <td>488.595315</td>\n",
       "    </tr>\n",
       "    <tr>\n",
       "      <th>10</th>\n",
       "      <td>CarName_toyota corolla 1200</td>\n",
       "      <td>0.000000e+00</td>\n",
       "      <td>0.000000e+00</td>\n",
       "      <td>494.188623</td>\n",
       "    </tr>\n",
       "    <tr>\n",
       "      <th>11</th>\n",
       "      <td>CarName_toyota corona</td>\n",
       "      <td>-1.053561e+03</td>\n",
       "      <td>-1.062062e+03</td>\n",
       "      <td>-1187.645335</td>\n",
       "    </tr>\n",
       "    <tr>\n",
       "      <th>12</th>\n",
       "      <td>CarName_toyota mark ii</td>\n",
       "      <td>3.560093e+02</td>\n",
       "      <td>4.515015e+02</td>\n",
       "      <td>1125.964421</td>\n",
       "    </tr>\n",
       "    <tr>\n",
       "      <th>13</th>\n",
       "      <td>CarName_volvo 144ea</td>\n",
       "      <td>-2.916633e+03</td>\n",
       "      <td>-3.058154e+03</td>\n",
       "      <td>-3685.021013</td>\n",
       "    </tr>\n",
       "    <tr>\n",
       "      <th>14</th>\n",
       "      <td>CarName_volvo 145e (sw)</td>\n",
       "      <td>-3.466916e+03</td>\n",
       "      <td>-3.581667e+03</td>\n",
       "      <td>-4152.010517</td>\n",
       "    </tr>\n",
       "    <tr>\n",
       "      <th>15</th>\n",
       "      <td>CarName_volvo 244dl</td>\n",
       "      <td>-2.345441e+03</td>\n",
       "      <td>-2.389600e+03</td>\n",
       "      <td>-2216.420113</td>\n",
       "    </tr>\n",
       "    <tr>\n",
       "      <th>16</th>\n",
       "      <td>fueltype_diesel</td>\n",
       "      <td>5.858748e+03</td>\n",
       "      <td>7.151949e+03</td>\n",
       "      <td>19463.526596</td>\n",
       "    </tr>\n",
       "    <tr>\n",
       "      <th>17</th>\n",
       "      <td>fueltype_gas</td>\n",
       "      <td>-1.420246e-12</td>\n",
       "      <td>-1.019824e-12</td>\n",
       "      <td>52949.619687</td>\n",
       "    </tr>\n",
       "    <tr>\n",
       "      <th>18</th>\n",
       "      <td>aspiration_std</td>\n",
       "      <td>-1.964006e+03</td>\n",
       "      <td>-2.025550e+03</td>\n",
       "      <td>-32333.049628</td>\n",
       "    </tr>\n",
       "    <tr>\n",
       "      <th>19</th>\n",
       "      <td>aspiration_turbo</td>\n",
       "      <td>0.000000e+00</td>\n",
       "      <td>0.000000e+00</td>\n",
       "      <td>-30227.943806</td>\n",
       "    </tr>\n",
       "    <tr>\n",
       "      <th>20</th>\n",
       "      <td>doornumber_four</td>\n",
       "      <td>3.206435e+02</td>\n",
       "      <td>3.291780e+02</td>\n",
       "      <td>18060.576806</td>\n",
       "    </tr>\n",
       "    <tr>\n",
       "      <th>21</th>\n",
       "      <td>doornumber_two</td>\n",
       "      <td>-0.000000e+00</td>\n",
       "      <td>-0.000000e+00</td>\n",
       "      <td>17729.198502</td>\n",
       "    </tr>\n",
       "    <tr>\n",
       "      <th>22</th>\n",
       "      <td>carbody_hardtop</td>\n",
       "      <td>-3.908514e+03</td>\n",
       "      <td>-3.996783e+03</td>\n",
       "      <td>-4083.525313</td>\n",
       "    </tr>\n",
       "    <tr>\n",
       "      <th>23</th>\n",
       "      <td>carbody_hatchback</td>\n",
       "      <td>-2.817133e+03</td>\n",
       "      <td>-2.862272e+03</td>\n",
       "      <td>-3210.476561</td>\n",
       "    </tr>\n",
       "    <tr>\n",
       "      <th>24</th>\n",
       "      <td>carbody_sedan</td>\n",
       "      <td>-2.033579e+03</td>\n",
       "      <td>-2.074318e+03</td>\n",
       "      <td>-2312.240274</td>\n",
       "    </tr>\n",
       "  </tbody>\n",
       "</table>\n",
       "</div>"
      ],
      "text/plain": [
       "                         Feature  Alpha =1.300000  Alpha =0.800000  \\\n",
       "0            CarName_honda civic     1.377897e+03     1.515619e+03   \n",
       "1              CarName_mazda 626    -2.528325e+02    -2.925880e+02   \n",
       "2              CarName_mazda glc    -1.143117e+03    -1.389155e+03   \n",
       "3          CarName_mitsubishi g4     2.622061e+02     3.629914e+02   \n",
       "4   CarName_mitsubishi mirage g4     8.888866e+02     1.002412e+03   \n",
       "5   CarName_mitsubishi outlander    -5.434992e+02    -5.979303e+02   \n",
       "6         CarName_nissan clipper     0.000000e+00     9.957052e+01   \n",
       "7      CarName_plymouth fury iii     0.000000e+00     8.593091e+01   \n",
       "8               CarName_saab 99e     4.901122e+03     5.062557e+03   \n",
       "9         CarName_toyota corolla    -2.848289e+02    -2.277842e+02   \n",
       "10   CarName_toyota corolla 1200     0.000000e+00     0.000000e+00   \n",
       "11         CarName_toyota corona    -1.053561e+03    -1.062062e+03   \n",
       "12        CarName_toyota mark ii     3.560093e+02     4.515015e+02   \n",
       "13           CarName_volvo 144ea    -2.916633e+03    -3.058154e+03   \n",
       "14       CarName_volvo 145e (sw)    -3.466916e+03    -3.581667e+03   \n",
       "15           CarName_volvo 244dl    -2.345441e+03    -2.389600e+03   \n",
       "16               fueltype_diesel     5.858748e+03     7.151949e+03   \n",
       "17                  fueltype_gas    -1.420246e-12    -1.019824e-12   \n",
       "18                aspiration_std    -1.964006e+03    -2.025550e+03   \n",
       "19              aspiration_turbo     0.000000e+00     0.000000e+00   \n",
       "20               doornumber_four     3.206435e+02     3.291780e+02   \n",
       "21                doornumber_two    -0.000000e+00    -0.000000e+00   \n",
       "22               carbody_hardtop    -3.908514e+03    -3.996783e+03   \n",
       "23             carbody_hatchback    -2.817133e+03    -2.862272e+03   \n",
       "24                 carbody_sedan    -2.033579e+03    -2.074318e+03   \n",
       "\n",
       "    Alpha =-2.200000  \n",
       "0        2455.462476  \n",
       "1        -616.230562  \n",
       "2       -2853.051968  \n",
       "3         766.281263  \n",
       "4        1395.945857  \n",
       "5       -1032.676889  \n",
       "6         898.615198  \n",
       "7        1098.709071  \n",
       "8        5849.239506  \n",
       "9         488.595315  \n",
       "10        494.188623  \n",
       "11      -1187.645335  \n",
       "12       1125.964421  \n",
       "13      -3685.021013  \n",
       "14      -4152.010517  \n",
       "15      -2216.420113  \n",
       "16      19463.526596  \n",
       "17      52949.619687  \n",
       "18     -32333.049628  \n",
       "19     -30227.943806  \n",
       "20      18060.576806  \n",
       "21      17729.198502  \n",
       "22      -4083.525313  \n",
       "23      -3210.476561  \n",
       "24      -2312.240274  "
      ]
     },
     "execution_count": 15,
     "metadata": {},
     "output_type": "execute_result"
    }
   ],
   "source": [
    "from sklearn.linear_model import Lasso\n",
    "\n",
    "def lasso(alphas):\n",
    "    df =pd.DataFrame()\n",
    "    df['Feature']= X_train_final.columns\n",
    "    \n",
    "    for alpha in alphas:\n",
    "        lasso = Lasso(alpha=alpha)\n",
    "        lasso.fit(X_train_final,y_train)\n",
    "        col_name = 'Alpha =%f' % alpha\n",
    "        df[col_name]= lasso.coef_\n",
    "    return df\n",
    "\n",
    "lasso([1.3, 0.8, -2.2]).head(25)"
   ]
  },
  {
   "cell_type": "markdown",
   "metadata": {},
   "source": [
    "# Decision Tree Regressor"
   ]
  },
  {
   "cell_type": "code",
   "execution_count": 16,
   "metadata": {},
   "outputs": [
    {
     "data": {
      "text/plain": [
       "DecisionTreeRegressor(ccp_alpha=0.0, criterion='mse', max_depth=None,\n",
       "                      max_features=None, max_leaf_nodes=None,\n",
       "                      min_impurity_decrease=0.0, min_impurity_split=None,\n",
       "                      min_samples_leaf=1, min_samples_split=2,\n",
       "                      min_weight_fraction_leaf=0.0, presort='deprecated',\n",
       "                      random_state=None, splitter='best')"
      ]
     },
     "execution_count": 16,
     "metadata": {},
     "output_type": "execute_result"
    }
   ],
   "source": [
    "from sklearn.tree import DecisionTreeRegressor\n",
    "\n",
    "\n",
    "dtr = DecisionTreeRegressor()\n",
    "\n",
    "dtr.fit(X_train_final,y_train)"
   ]
  },
  {
   "cell_type": "code",
   "execution_count": 17,
   "metadata": {},
   "outputs": [
    {
     "data": {
      "text/plain": [
       "array([36880., 15998.,  8949., 12170., 33900.,  5195.,  6918.,  8358.,\n",
       "        8845.,  7995., 12170.,  8058., 12170., 11248., 45400.,  6338.,\n",
       "        5572., 12764.,  6989.,  9095., 10245., 14399.,  7299.,  5389.,\n",
       "        7609., 36880.,  8449., 16515.,  7349., 15985., 33900.,  6229.,\n",
       "        6785., 19045.,  7957., 33278., 15250., 13645.,  6575., 14869.,\n",
       "        8921.])"
      ]
     },
     "execution_count": 17,
     "metadata": {},
     "output_type": "execute_result"
    }
   ],
   "source": [
    "dtr.predict(X_test_final)"
   ]
  },
  {
   "cell_type": "code",
   "execution_count": 18,
   "metadata": {},
   "outputs": [
    {
     "name": "stdout",
     "output_type": "stream",
     "text": [
      "Training Accurecy:  0.9988102717463964\n",
      "Test Accrecy: 0.8989594326961939\n"
     ]
    }
   ],
   "source": [
    "print('Training Accurecy: ', dtr.score(X_train_final,y_train))\n",
    "\n",
    "print('Test Accrecy:', dtr.score(X_test_final,y_test))"
   ]
  },
  {
   "cell_type": "markdown",
   "metadata": {},
   "source": [
    "# Hyperparameter Tunning (Decision Tree)\n"
   ]
  },
  {
   "cell_type": "code",
   "execution_count": 20,
   "metadata": {},
   "outputs": [
    {
     "name": "stdout",
     "output_type": "stream",
     "text": [
      "Best Score = 0.80938020989181\n",
      "Where we got best score = {'min_samples_split': 13, 'max_leaf_nodes': 16, 'max_depth': 12}\n"
     ]
    }
   ],
   "source": [
    "from sklearn.model_selection import RandomizedSearchCV\n",
    "\n",
    "hyp_dict = { 'max_depth': [8,10,12],\n",
    "             'min_samples_split' : [9,11,13],\n",
    "             'max_leaf_nodes': [8,12,16]\n",
    "           }\n",
    "gcv_dec = RandomizedSearchCV(estimator=dtr, param_distributions=hyp_dict, cv=5, n_iter = 24)\n",
    "\n",
    "gcv_dec.fit(X_train_final, y_train)\n",
    "\n",
    "print('Best Score =' , gcv_dec.best_score_)\n",
    "print('Where we got best score =', gcv_dec.best_params_)"
   ]
  },
  {
   "cell_type": "markdown",
   "metadata": {},
   "source": [
    "# Random Forest Regressor\n"
   ]
  },
  {
   "cell_type": "code",
   "execution_count": 21,
   "metadata": {},
   "outputs": [
    {
     "data": {
      "text/plain": [
       "RandomForestRegressor(bootstrap=True, ccp_alpha=0.0, criterion='mse',\n",
       "                      max_depth=None, max_features='auto', max_leaf_nodes=None,\n",
       "                      max_samples=None, min_impurity_decrease=0.0,\n",
       "                      min_impurity_split=None, min_samples_leaf=1,\n",
       "                      min_samples_split=2, min_weight_fraction_leaf=0.0,\n",
       "                      n_estimators=100, n_jobs=None, oob_score=False,\n",
       "                      random_state=None, verbose=0, warm_start=False)"
      ]
     },
     "execution_count": 21,
     "metadata": {},
     "output_type": "execute_result"
    }
   ],
   "source": [
    "from sklearn.ensemble import RandomForestRegressor\n",
    "\n",
    "rand_reg = RandomForestRegressor()\n",
    "\n",
    "rand_reg.fit(X_train_final, y_train)"
   ]
  },
  {
   "cell_type": "code",
   "execution_count": 22,
   "metadata": {},
   "outputs": [
    {
     "data": {
      "text/plain": [
       "array([35776.06      , 19008.71      ,  8841.36      , 13203.83083333,\n",
       "       27279.655     ,  6529.24      ,  7801.72      ,  7886.27      ,\n",
       "       10084.01333333,  8163.23      , 14831.08666667,  7892.72      ,\n",
       "       14904.71166667, 10800.83      , 40895.5       ,  6412.37      ,\n",
       "        5868.595     , 13855.48      ,  8614.54      ,  9384.24      ,\n",
       "       10411.06      , 14810.        ,  7065.42      ,  5971.57      ,\n",
       "        7293.61      , 35944.17      ,  9358.155     , 16915.01      ,\n",
       "        7180.05      , 16678.71      , 27469.925     ,  6472.64      ,\n",
       "        7970.41      , 18645.13      ,  8019.59      , 27505.035     ,\n",
       "       10753.38833333, 12929.92      ,  7350.875     , 14269.97      ,\n",
       "        8434.07      ])"
      ]
     },
     "execution_count": 22,
     "metadata": {},
     "output_type": "execute_result"
    }
   ],
   "source": [
    "rand_reg.predict(X_test_final)"
   ]
  },
  {
   "cell_type": "code",
   "execution_count": 23,
   "metadata": {},
   "outputs": [
    {
     "name": "stdout",
     "output_type": "stream",
     "text": [
      "Training Accurecy:  0.9858494978166725\n",
      "Test Accrecy: 0.958685173251845\n"
     ]
    }
   ],
   "source": [
    "print('Training Accurecy: ', rand_reg.score(X_train_final,y_train))\n",
    "\n",
    "print('Test Accrecy:', rand_reg.score(X_test_final,y_test))"
   ]
  },
  {
   "cell_type": "markdown",
   "metadata": {},
   "source": [
    "# Hyperparameter Tunning (Random Forest)\n"
   ]
  },
  {
   "cell_type": "code",
   "execution_count": 24,
   "metadata": {},
   "outputs": [
    {
     "name": "stdout",
     "output_type": "stream",
     "text": [
      "Best Score = 0.8370516487903922\n",
      "Where we got best score = {'min_samples_split': 9, 'max_leaf_nodes': 15, 'max_depth': 11}\n"
     ]
    }
   ],
   "source": [
    "from sklearn.model_selection import RandomizedSearchCV\n",
    "\n",
    "hype_dict = { 'max_depth': [11,9,17],\n",
    "             'min_samples_split' : [9,15,18],\n",
    "             'max_leaf_nodes': [5,10,15]\n",
    "           }\n",
    "gcv_ran = RandomizedSearchCV(estimator=dtr, param_distributions=hype_dict, cv=4, n_iter = 24)\n",
    "\n",
    "gcv_ran.fit(X_train_final, y_train)\n",
    "\n",
    "print('Best Score =' , gcv_ran.best_score_)\n",
    "print('Where we got best score =', gcv_ran.best_params_)"
   ]
  },
  {
   "cell_type": "markdown",
   "metadata": {},
   "source": [
    "# GridSearchCV"
   ]
  },
  {
   "cell_type": "code",
   "execution_count": 25,
   "metadata": {},
   "outputs": [
    {
     "data": {
      "text/plain": [
       "{'max_depth': 10, 'max_leaf_nodes': 8, 'min_samples_split': 10}"
      ]
     },
     "execution_count": 25,
     "metadata": {},
     "output_type": "execute_result"
    }
   ],
   "source": [
    "from sklearn.model_selection import GridSearchCV\n",
    "\n",
    "hyp_dict = { 'max_depth': [10,16,18],\n",
    "             'min_samples_split' : [8,10,14],\n",
    "             'max_leaf_nodes': [8,13,16]\n",
    "           }\n",
    "gcv = GridSearchCV(estimator=dtr, param_grid=hyp_dict, cv=5)\n",
    "\n",
    "gcv.fit(X_train_final, y_train)\n",
    "\n",
    "gcv.best_params_"
   ]
  },
  {
   "cell_type": "code",
   "execution_count": 26,
   "metadata": {},
   "outputs": [
    {
     "data": {
      "text/plain": [
       "0.8152277611234899"
      ]
     },
     "execution_count": 26,
     "metadata": {},
     "output_type": "execute_result"
    }
   ],
   "source": [
    "gcv.best_score_"
   ]
  },
  {
   "cell_type": "code",
   "execution_count": 27,
   "metadata": {},
   "outputs": [
    {
     "data": {
      "text/plain": [
       "array([34227.68181818, 18278.4516129 ,  9748.96296296, 12536.10526316,\n",
       "       34227.68181818,  7178.22321429,  7178.22321429,  7178.22321429,\n",
       "        9748.96296296,  7178.22321429, 12536.10526316,  7178.22321429,\n",
       "       12536.10526316,  9748.96296296, 45400.        ,  7178.22321429,\n",
       "        7178.22321429, 15303.66666667,  9748.96296296,  9748.96296296,\n",
       "        9748.96296296, 18278.4516129 ,  7178.22321429,  7178.22321429,\n",
       "        7178.22321429, 34227.68181818, 12536.10526316, 18278.4516129 ,\n",
       "        7178.22321429, 18278.4516129 , 34227.68181818,  7178.22321429,\n",
       "        9748.96296296, 18278.4516129 ,  7178.22321429, 34227.68181818,\n",
       "       12536.10526316, 12536.10526316,  7178.22321429, 15303.66666667,\n",
       "        9748.96296296])"
      ]
     },
     "execution_count": 27,
     "metadata": {},
     "output_type": "execute_result"
    }
   ],
   "source": [
    "gcv.predict(X_test_final)"
   ]
  },
  {
   "cell_type": "code",
   "execution_count": 28,
   "metadata": {},
   "outputs": [
    {
     "data": {
      "text/plain": [
       "0.8763066597117881"
      ]
     },
     "execution_count": 28,
     "metadata": {},
     "output_type": "execute_result"
    }
   ],
   "source": [
    "gcv.score(X_test_final, y_test)"
   ]
  },
  {
   "cell_type": "code",
   "execution_count": null,
   "metadata": {},
   "outputs": [],
   "source": []
  }
 ],
 "metadata": {
  "kernelspec": {
   "display_name": "Python 3",
   "language": "python",
   "name": "python3"
  },
  "language_info": {
   "codemirror_mode": {
    "name": "ipython",
    "version": 3
   },
   "file_extension": ".py",
   "mimetype": "text/x-python",
   "name": "python",
   "nbconvert_exporter": "python",
   "pygments_lexer": "ipython3",
   "version": "3.7.6"
  }
 },
 "nbformat": 4,
 "nbformat_minor": 4
}
